{
 "cells": [
  {
   "cell_type": "markdown",
   "id": "fc148566",
   "metadata": {},
   "source": [
    "## 1. 기상청 API를 이용하여 데이터 뽑아내기"
   ]
  },
  {
   "cell_type": "code",
   "execution_count": 9,
   "id": "0725d2ba",
   "metadata": {},
   "outputs": [
    {
     "name": "stdout",
     "output_type": "stream",
     "text": [
      "http://apis.data.go.kr/1360000/TyphoonInfoService/getTyphoonInfo?serviceKey=YHCPr1O2WTIO0pCcU479eI+A4nfXor/jocEVa3LaqMifgriZSnw8RnRmGZQdTNJuqKzH4LneGy3RjPyaJUg00g==&numOfRows=10&pageNo=1&dataType=XML&fromTmFc=20200826&toTmFc=20200826\n"
     ]
    }
   ],
   "source": [
    "from urllib.request import urlopen\n",
    "from bs4 import BeautifulSoup\n",
    "\n",
    "url = 'http://apis.data.go.kr/1360000/TyphoonInfoService/getTyphoonInfo?serviceKey=YHCPr1O2WTIO0pCcU479eI+A4nfXor/jocEVa3LaqMifgriZSnw8RnRmGZQdTNJuqKzH4LneGy3RjPyaJUg00g==&numOfRows=10&pageNo=1&dataType=XML&fromTmFc=20200826&toTmFc=20200826'\n",
    "print(url)"
   ]
  },
  {
   "cell_type": "markdown",
   "id": "a396e0cd",
   "metadata": {},
   "source": [
    "기본적으로 urllib이라는 패키지가 필요합니다. urllib 패키지 안에는 다음과 같은 4개의 모듈이 존재합니다.\n",
    "\n",
    "* urllib.request : URL base 요청에 관련된 함수와 객체가 있습니다.\n",
    "* urllib.parse : 필요한 데이터를 URL에 파싱하기 위한 함수와 객체가 있습니다.\n",
    "* urllib.error : urllib.request 모듈에 의해 발생한 예외 처리를 위한 모듈입니다. (사용 x)\n",
    "* urllib.robotparse : 웹사이트의 robots.txt 파이에 대한 파싱을 위한 모듈입니다. (사용 x)"
   ]
  },
  {
   "cell_type": "code",
   "execution_count": 2,
   "id": "e5a1a3b3",
   "metadata": {},
   "outputs": [],
   "source": [
    "# url for request\n",
    "url = 'http://data.kma.go.kr/apiData/getData'"
   ]
  },
  {
   "cell_type": "code",
   "execution_count": 3,
   "id": "775d6cd0",
   "metadata": {},
   "outputs": [],
   "source": [
    "# parameter for request\n",
    "params = '?' + urlencode({\n",
    "    quote_plus('type') : 'json',\n",
    "    quote_plus('dataCd') : 'ASOS',\n",
    "    quote_plus('type') : 'json',\n",
    "    quote_plus('type') : 'json',\n",
    "    quote_plus('type') : 'json',\n",
    "    quote_plus('type') : 'json',\n",
    "    quote_plus('type') : 'json',\n",
    "    quote_plus('type') : 'json',\n",
    "    quote_plus('type') : 'json',\n",
    "    quote_plus('type') : 'json',\n",
    "    quote_plus('type') : 'json',\n",
    "    quote_plus('type') : 'json',\n",
    "    quote_plus('type') : 'json',\n",
    "})"
   ]
  }
 ],
 "metadata": {
  "kernelspec": {
   "display_name": "Python 3 (ipykernel)",
   "language": "python",
   "name": "python3"
  },
  "language_info": {
   "codemirror_mode": {
    "name": "ipython",
    "version": 3
   },
   "file_extension": ".py",
   "mimetype": "text/x-python",
   "name": "python",
   "nbconvert_exporter": "python",
   "pygments_lexer": "ipython3",
   "version": "3.9.12"
  }
 },
 "nbformat": 4,
 "nbformat_minor": 5
}
